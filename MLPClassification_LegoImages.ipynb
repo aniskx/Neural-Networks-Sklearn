{
 "cells": [
  {
   "cell_type": "markdown",
   "metadata": {},
   "source": [
    "### Classification Neural Network"
   ]
  },
  {
   "cell_type": "markdown",
   "metadata": {},
   "source": [
    "https://www.kaggle.com/joosthazelzet/lego-brick-images"
   ]
  },
  {
   "cell_type": "markdown",
   "metadata": {},
   "source": [
    "### load and vsualize data  "
   ]
  },
  {
   "cell_type": "code",
   "execution_count": 1,
   "metadata": {},
   "outputs": [],
   "source": [
    "import pandas as pd \n",
    "import numpy as np \n",
    "import matplotlib.pyplot as plt \n",
    "import cv2\n",
    "import os "
   ]
  },
  {
   "cell_type": "code",
   "execution_count": 2,
   "metadata": {},
   "outputs": [],
   "source": [
    "# save the path of the data \n",
    "data_path = 'lego-data/LEGO brick images v1'\n",
    "\n",
    "# data saved in subfiles according to its type "
   ]
  },
  {
   "cell_type": "code",
   "execution_count": 3,
   "metadata": {},
   "outputs": [],
   "source": [
    "# set function 'load_images' to load data subfiles \n",
    "def load_images(path):\n",
    "    \n",
    "   # initialize list that store the training images \n",
    "\n",
    "    images_train =[]\n",
    "    labels_train =[]\n",
    "    \n",
    "    # itirate through every subfolder and print full path to the screen\n",
    "    for sub_folder in os.listdir(path):\n",
    "        fullpath = os.path.join(path,sub_folder)\n",
    "        print(fullpath)\n",
    "        \n",
    "        # if the the current path is not a directory just continue \n",
    "        if not os.path.isdir(fullpath):\n",
    "            continue\n",
    "        \n",
    "        # get the list of images located under each subfolder by calling os.listdir  \n",
    "        images = os.listdir(fullpath)\n",
    "        \n",
    "        # nested for loop in order to iterate over everyimage file in the subfolder \n",
    "        for image_filename in images:\n",
    "            \n",
    "            # get the full path to the image \n",
    "            image_fullpath = os.path.join(fullpath, image_filename)\n",
    "            # check if the path is a directory  continue \n",
    "            if os.path.isdir(image_fullpath):\n",
    "                continue \n",
    "                # use the open cv library to read the content of image file\n",
    "            img = cv2.imread(image_fullpath)\n",
    "            # append the image to the list of training images \n",
    "            images_train.append(img)\n",
    "            # the label is the name of the subfolder \n",
    "            labels_train.append(sub_folder)\n",
    "            \n",
    "            \n",
    "    return np.array(images_train), np.array(labels_train)"
   ]
  },
  {
   "cell_type": "code",
   "execution_count": 4,
   "metadata": {},
   "outputs": [
    {
     "name": "stdout",
     "output_type": "stream",
     "text": [
      "lego-data/LEGO brick images v1\\11214 Bush 3M friction with Cross axle\n",
      "lego-data/LEGO brick images v1\\18651 Cross Axle 2M with Snap friction\n",
      "lego-data/LEGO brick images v1\\2357 Brick corner 1x2x2\n",
      "lego-data/LEGO brick images v1\\3003 Brick 2x2\n",
      "lego-data/LEGO brick images v1\\3004 Brick 1x2\n",
      "lego-data/LEGO brick images v1\\3005 Brick 1x1\n",
      "lego-data/LEGO brick images v1\\3022 Plate 2x2\n",
      "lego-data/LEGO brick images v1\\3023 Plate 1x2\n",
      "lego-data/LEGO brick images v1\\3024 Plate 1x1\n",
      "lego-data/LEGO brick images v1\\3040 Roof Tile 1x2x45deg\n",
      "lego-data/LEGO brick images v1\\3069 Flat Tile 1x2\n",
      "lego-data/LEGO brick images v1\\32123 half Bush\n",
      "lego-data/LEGO brick images v1\\3673 Peg 2M\n",
      "lego-data/LEGO brick images v1\\3713 Bush for Cross Axle\n",
      "lego-data/LEGO brick images v1\\3794 Plate 1X2 with 1 Knob\n",
      "lego-data/LEGO brick images v1\\6632 Technic Lever 3M\n"
     ]
    }
   ],
   "source": [
    "images_train, labels_train = load_images(data_path)"
   ]
  },
  {
   "cell_type": "code",
   "execution_count": 5,
   "metadata": {},
   "outputs": [
    {
     "data": {
      "text/plain": [
       "(6379, 200, 200, 3)"
      ]
     },
     "execution_count": 5,
     "metadata": {},
     "output_type": "execute_result"
    }
   ],
   "source": [
    "images_train.shape"
   ]
  },
  {
   "cell_type": "code",
   "execution_count": 6,
   "metadata": {},
   "outputs": [
    {
     "data": {
      "text/plain": [
       "(200, 200, 3)"
      ]
     },
     "execution_count": 6,
     "metadata": {},
     "output_type": "execute_result"
    }
   ],
   "source": [
    "images_train[5].shape"
   ]
  },
  {
   "cell_type": "code",
   "execution_count": 7,
   "metadata": {},
   "outputs": [
    {
     "data": {
      "text/plain": [
       "(6379,)"
      ]
     },
     "execution_count": 7,
     "metadata": {},
     "output_type": "execute_result"
    }
   ],
   "source": [
    "labels_train.shape"
   ]
  },
  {
   "cell_type": "code",
   "execution_count": 8,
   "metadata": {},
   "outputs": [
    {
     "name": "stdout",
     "output_type": "stream",
     "text": [
      "label: 2357 Brick corner 1x2x2\n"
     ]
    },
    {
     "data": {
      "image/png": "[encoded data removed]",
      "text/plain": [
       "<Figure size 432x288 with 1 Axes>"
      ]
     },
     "metadata": {
      "needs_background": "light"
     },
     "output_type": "display_data"
    }
   ],
   "source": [
    "# picked image at random index (1000)\n",
    "plt.imshow(images_train[1000])\n",
    "print('label:', labels_train[1000])"
   ]
  },
  {
   "cell_type": "markdown",
   "metadata": {},
   "source": [
    "### building and training the classifier NN"
   ]
  },
  {
   "cell_type": "code",
   "execution_count": 9,
   "metadata": {},
   "outputs": [],
   "source": [
    "# reshape the images into a single dimensional data\n",
    "# ( batch_size, (height*width*channels))\n",
    "x = images_train.reshape(images_train.shape[0],\n",
    "                         images_train.shape[1] * images_train.shape[2] * images_train.shape[3])"
   ]
  },
  {
   "cell_type": "code",
   "execution_count": 10,
   "metadata": {},
   "outputs": [
    {
     "data": {
      "text/plain": [
       "(6379, 120000)"
      ]
     },
     "execution_count": 10,
     "metadata": {},
     "output_type": "execute_result"
    }
   ],
   "source": [
    "x.shape"
   ]
  },
  {
   "cell_type": "markdown",
   "metadata": {},
   "source": [
    "###### notice 6379 batch size and each image is flatned to be one dimentional vector"
   ]
  },
  {
   "cell_type": "code",
   "execution_count": 11,
   "metadata": {},
   "outputs": [],
   "source": [
    "# encoding label from string format to numeric \n",
    "from sklearn.preprocessing import LabelEncoder\n",
    "encoder = LabelEncoder()\n",
    "y = encoder.fit_transform(labels_train)"
   ]
  },
  {
   "cell_type": "code",
   "execution_count": 12,
   "metadata": {},
   "outputs": [
    {
     "data": {
      "text/plain": [
       "array([ 0,  1,  2,  3,  4,  5,  6,  7,  8,  9, 10, 11, 12, 13, 14, 15],\n",
       "      dtype=int64)"
      ]
     },
     "execution_count": 12,
     "metadata": {},
     "output_type": "execute_result"
    }
   ],
   "source": [
    "np.unique(y)"
   ]
  },
  {
   "cell_type": "code",
   "execution_count": 13,
   "metadata": {},
   "outputs": [
    {
     "data": {
      "text/plain": [
       "((5103, 120000), (5103,))"
      ]
     },
     "execution_count": 13,
     "metadata": {},
     "output_type": "execute_result"
    }
   ],
   "source": [
    "# split data into training and testing data \n",
    "from sklearn.model_selection import train_test_split\n",
    "\n",
    "x_train, x_test, y_train, y_test = train_test_split(x,y,shuffle=True, test_size= 0.2)\n",
    "x_train.shape, y_train.shape"
   ]
  },
  {
   "cell_type": "code",
   "execution_count": 14,
   "metadata": {},
   "outputs": [],
   "source": [
    "#instantiate a neural network \n",
    "# 3 hidden layer with each layer containing a 100 neurons \n",
    "from sklearn.neural_network import MLPClassifier\n",
    "clf_image = MLPClassifier(activation = 'relu',\n",
    "                         hidden_layer_sizes =(100,100,100),\n",
    "                         solver='adam',\n",
    "                         verbose= True,\n",
    "                         max_iter=100)"
   ]
  },
  {
   "cell_type": "code",
   "execution_count": 15,
   "metadata": {},
   "outputs": [
    {
     "name": "stdout",
     "output_type": "stream",
     "text": [
      "Iteration 1, loss = inf\n",
      "Iteration 2, loss = 38.17341241\n",
      "Iteration 3, loss = 13.36561461\n",
      "Iteration 4, loss = 10.24778120\n",
      "Iteration 5, loss = 7.34236200\n",
      "Iteration 6, loss = 6.65090256\n",
      "Iteration 7, loss = 6.06781230\n",
      "Iteration 8, loss = 7.25944075\n",
      "Iteration 9, loss = 4.50258628\n",
      "Iteration 10, loss = 3.11607901\n",
      "Iteration 11, loss = 3.87501846\n",
      "Iteration 12, loss = 3.04516743\n",
      "Iteration 13, loss = 2.15054111\n",
      "Iteration 14, loss = 1.95637621\n",
      "Iteration 15, loss = 1.46708966\n",
      "Iteration 16, loss = 1.32364647\n",
      "Iteration 17, loss = 2.20052252\n",
      "Iteration 18, loss = 1.40971025\n",
      "Iteration 19, loss = 1.23834789\n",
      "Iteration 20, loss = 1.16176205\n",
      "Iteration 21, loss = 0.80798606\n",
      "Iteration 22, loss = 0.90215477\n",
      "Iteration 23, loss = 0.50253416\n",
      "Iteration 24, loss = 0.95366499\n",
      "Iteration 25, loss = 2.02302900\n",
      "Iteration 26, loss = 0.97729347\n",
      "Iteration 27, loss = 1.20933540\n",
      "Iteration 28, loss = 1.01132325\n",
      "Iteration 29, loss = 1.90026068\n",
      "Iteration 30, loss = 2.40282515\n",
      "Iteration 31, loss = 3.73411381\n",
      "Iteration 32, loss = 2.62923998\n",
      "Iteration 33, loss = 2.83247684\n",
      "Iteration 34, loss = 1.99274081\n",
      "Training loss did not improve more than tol=0.000100 for 10 consecutive epochs. Stopping.\n"
     ]
    },
    {
     "data": {
      "text/plain": [
       "MLPClassifier(activation='relu', alpha=0.0001, batch_size='auto', beta_1=0.9,\n",
       "              beta_2=0.999, early_stopping=False, epsilon=1e-08,\n",
       "              hidden_layer_sizes=(100, 100, 100), learning_rate='constant',\n",
       "              learning_rate_init=0.001, max_fun=15000, max_iter=100,\n",
       "              momentum=0.9, n_iter_no_change=10, nesterovs_momentum=True,\n",
       "              power_t=0.5, random_state=None, shuffle=True, solver='adam',\n",
       "              tol=0.0001, validation_fraction=0.1, verbose=True,\n",
       "              warm_start=False)"
      ]
     },
     "execution_count": 15,
     "metadata": {},
     "output_type": "execute_result"
    }
   ],
   "source": [
    "clf_image.fit(x_train, y_train)"
   ]
  },
  {
   "cell_type": "code",
   "execution_count": 16,
   "metadata": {},
   "outputs": [],
   "source": [
    "y_pred= clf_image.predict(x_test)"
   ]
  },
  {
   "cell_type": "code",
   "execution_count": 19,
   "metadata": {},
   "outputs": [
    {
     "data": {
      "text/plain": [
       "0.8009404388714734"
      ]
     },
     "execution_count": 19,
     "metadata": {},
     "output_type": "execute_result"
    }
   ],
   "source": [
    "from sklearn.metrics import accuracy_score \n",
    "accuracy_score(y_test, y_pred)"
   ]
  },
  {
   "cell_type": "code",
   "execution_count": null,
   "metadata": {},
   "outputs": [],
   "source": []
  }
 ],
 "metadata": {
  "kernelspec": {
   "display_name": "Python 3",
   "language": "python",
   "name": "python3"
  },
  "language_info": {
   "codemirror_mode": {
    "name": "ipython",
    "version": 3
   },
   "file_extension": ".py",
   "mimetype": "text/x-python",
   "name": "python",
   "nbconvert_exporter": "python",
   "pygments_lexer": "ipython3",
   "version": "3.8.1"
  }
 },
 "nbformat": 4,
 "nbformat_minor": 4
}
